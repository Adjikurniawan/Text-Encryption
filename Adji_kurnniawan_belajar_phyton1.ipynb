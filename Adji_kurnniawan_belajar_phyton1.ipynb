{
  "nbformat": 4,
  "nbformat_minor": 0,
  "metadata": {
    "colab": {
      "provenance": [],
      "authorship_tag": "ABX9TyPUiJdnzDGPK6c0COB6tMhW",
      "include_colab_link": true
    },
    "kernelspec": {
      "name": "python3",
      "display_name": "Python 3"
    },
    "language_info": {
      "name": "python"
    }
  },
  "cells": [
    {
      "cell_type": "markdown",
      "metadata": {
        "id": "view-in-github",
        "colab_type": "text"
      },
      "source": [
        "<a href=\"https://colab.research.google.com/github/Adjikurniawan/Text-Encryption/blob/main/Adji_kurnniawan_belajar_phyton1.ipynb\" target=\"_parent\"><img src=\"https://colab.research.google.com/assets/colab-badge.svg\" alt=\"Open In Colab\"/></a>"
      ]
    },
    {
      "cell_type": "markdown",
      "source": [
        "Belajar phyton awal\n"
      ],
      "metadata": {
        "id": "z7itbBNY9yTq"
      }
    },
    {
      "cell_type": "code",
      "source": [
        "print (\"halo dinda\")\n",
        "\n"
      ],
      "metadata": {
        "colab": {
          "base_uri": "https://localhost:8080/"
        },
        "id": "TgrYSi9e-D78",
        "outputId": "cc19f35a-27bd-42e3-a408-67fd1b1495ee"
      },
      "execution_count": null,
      "outputs": [
        {
          "output_type": "stream",
          "name": "stdout",
          "text": [
            "halo dinda\n"
          ]
        }
      ]
    },
    {
      "cell_type": "code",
      "source": [
        "\n",
        "print(666"
      ],
      "metadata": {
        "colab": {
          "base_uri": "https://localhost:8080/"
        },
        "id": "kMogg1nKAoRF",
        "outputId": "07a2f7d7-ec5c-4959-c58b-f5750f7ab313"
      },
      "execution_count": null,
      "outputs": [
        {
          "output_type": "stream",
          "name": "stdout",
          "text": [
            "666\n"
          ]
        }
      ]
    },
    {
      "cell_type": "code",
      "source": [
        "print(\"Life is never float\")"
      ],
      "metadata": {
        "colab": {
          "base_uri": "https://localhost:8080/"
        },
        "id": "FxrvSiCm_LT3",
        "outputId": "ba5e94a6-66a1-4076-a971-1bb5be3a1438"
      },
      "execution_count": null,
      "outputs": [
        {
          "output_type": "stream",
          "name": "stdout",
          "text": [
            "Life is never float\n"
          ]
        }
      ]
    },
    {
      "cell_type": "markdown",
      "source": [],
      "metadata": {
        "id": "wILBNCtKCxR2"
      }
    },
    {
      "cell_type": "code",
      "source": [
        "print(\"Aone\")"
      ],
      "metadata": {
        "colab": {
          "base_uri": "https://localhost:8080/"
        },
        "id": "XajIFmVPBq-A",
        "outputId": "5d08d8bf-e1d2-4298-d1f2-9d52189a5cd2"
      },
      "execution_count": null,
      "outputs": [
        {
          "output_type": "stream",
          "name": "stdout",
          "text": [
            "Aone\n"
          ]
        }
      ]
    },
    {
      "cell_type": "code",
      "source": [
        "panjang=10\n",
        "lebar=5\n",
        "print((2*panjang)+(2*lebar))\n"
      ],
      "metadata": {
        "colab": {
          "base_uri": "https://localhost:8080/"
        },
        "id": "qjXEBmZDBRbJ",
        "outputId": "d5c28a7a-9a57-4864-bbf2-5a85de4194fa"
      },
      "execution_count": null,
      "outputs": [
        {
          "output_type": "stream",
          "name": "stdout",
          "text": [
            "30\n"
          ]
        }
      ]
    },
    {
      "cell_type": "code",
      "source": [
        "nama= (\"aone\")\n",
        "print(\"nama saya adalah\", nama)"
      ],
      "metadata": {
        "colab": {
          "base_uri": "https://localhost:8080/"
        },
        "id": "nroGCZimDUys",
        "outputId": "df27f5da-bbd8-4e47-a91f-cac7a68b2119"
      },
      "execution_count": null,
      "outputs": [
        {
          "output_type": "stream",
          "name": "stdout",
          "text": [
            "nama saya adalah aone\n"
          ]
        }
      ]
    },
    {
      "cell_type": "code",
      "source": [
        "nama= \"aone\"\n",
        "print(\"saya memainkan game super\",nama,\"bersama adik saya\")"
      ],
      "metadata": {
        "colab": {
          "base_uri": "https://localhost:8080/"
        },
        "id": "UwPOM1pDFM3T",
        "outputId": "590a6ec9-c86e-4c17-b689-a031d90eb5d9"
      },
      "execution_count": null,
      "outputs": [
        {
          "output_type": "stream",
          "name": "stdout",
          "text": [
            "saya memainkan game super aone bersama adik saya\n"
          ]
        }
      ]
    },
    {
      "cell_type": "code",
      "source": [
        "nama=\"aone\"\n",
        "print(nama,\"adalah karakter utama dalam permainan super\",nama)"
      ],
      "metadata": {
        "colab": {
          "base_uri": "https://localhost:8080/"
        },
        "id": "UZT48hjKFccr",
        "outputId": "fb65fc4f-458b-45c5-b513-af532d816a79"
      },
      "execution_count": null,
      "outputs": [
        {
          "output_type": "stream",
          "name": "stdout",
          "text": [
            "aone adalah karakter utama dalam permainan super aone\n"
          ]
        }
      ]
    },
    {
      "cell_type": "code",
      "source": [
        "print(\"belajar bahasa pemrograman\")\n",
        "print(\"Phyton itu mudah sekali\")\n",
        "print(\"karena sudah mempunyai dokumentasi yang lengkap\")"
      ],
      "metadata": {
        "colab": {
          "base_uri": "https://localhost:8080/"
        },
        "id": "Ydo2PvV8F_z1",
        "outputId": "33cedcb4-ae11-4d9b-a1ba-c536b6872144"
      },
      "execution_count": null,
      "outputs": [
        {
          "output_type": "stream",
          "name": "stdout",
          "text": [
            "belajar bahasa pemrograman\n",
            "Phyton itu mudah sekali\n",
            "karena sudah mempunyai dokumentasi yang lengkap\n"
          ]
        }
      ]
    },
    {
      "cell_type": "code",
      "source": [
        "print(\"belajar bahasa pemrograman \\nPhyton itu mudah sekali \\nkarena sudah mempunyai dokumentasi yang lengkap\")"
      ],
      "metadata": {
        "colab": {
          "base_uri": "https://localhost:8080/"
        },
        "id": "2R6xtiTSGdGO",
        "outputId": "6a142974-6aee-43ee-b151-6e0d35fa3303"
      },
      "execution_count": null,
      "outputs": [
        {
          "output_type": "stream",
          "name": "stdout",
          "text": [
            "belajar bahasa pemrograman \n",
            "Phyton itu mudah sekali \n",
            "karena sudah mempunyai dokumentasi yang lengkap\n"
          ]
        }
      ]
    },
    {
      "cell_type": "code",
      "source": [
        "panjang=10\n",
        "lebar=5\n",
        "keliling=((2*panjang)+(2*lebar))\n",
        "print((\"keliling dari(2*%d)+(2*%d)adalah %d\")%(panjang,lebar,keliling))"
      ],
      "metadata": {
        "colab": {
          "base_uri": "https://localhost:8080/"
        },
        "id": "QpcHDJtnG0FI",
        "outputId": "7c1def08-7a3e-4cfc-9e8f-7bda686e33ee"
      },
      "execution_count": null,
      "outputs": [
        {
          "output_type": "stream",
          "name": "stdout",
          "text": [
            "keliling dari(2*10)+(2*5)adalah 30\n"
          ]
        }
      ]
    }
  ]
}